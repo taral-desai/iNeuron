{
 "cells": [
  {
   "attachments": {},
   "cell_type": "markdown",
   "metadata": {},
   "source": [
    "## Assignment Part-1 "
   ]
  },
  {
   "attachments": {},
   "cell_type": "markdown",
   "metadata": {},
   "source": [
    "Q1. Why do we call Python as a general purpose and high-level programming language?\n",
    " \n",
    " Ans: Because its a human readable, writable  language and its converted to machine level using interpreter. Its has wide range of use so called general purpose.\n",
    "\n",
    "Q2. Why is Python called a dynamically typed language?\n",
    " \n",
    " Ans: Because you dont need to specify data type during declaration of variable and the data type is decided on the go on the basis of value assigned to the variable.\n",
    "\n",
    "Q3. List some pros and cons of Python programming language?\n",
    " \n",
    " Ans: Pros - Easy to read/write, not statiscally typed (dynamic), wide range of libraries available, great open source support\n",
    " Cons - Its slow compared to c++, java as its not compiled and interpreted line by line on the go. \n",
    "\n",
    "Q4. In what all domains can we use Python?\n",
    " \n",
    " Ans: data science, data analytics, big data, data engineering, software development, web development\n",
    "\n",
    "Q5. What are variable and how can we declare them?\n",
    " \n",
    " Ans: variables are placeholders for changing values. In python its the name given to a memory location to which it points or refers to in memory. For eg: a = 5, a is variable name pointing to a memory loc where 5 (int data type) is stored. \n",
    "\n",
    "Q6. How can we take an input from the user in Python?\n",
    " \n",
    " Ans: Using the input function. And type casting is required to get input in desired data type for any successful operations as input function by default returns string data type. \n",
    " a = input('Enter name:')\n",
    "\n",
    "Q7. What is the default datatype of the value that has been taken as an input using input() function?\n",
    " Ans: string\n",
    "\n",
    "Q8. What is type casting?\n",
    " \n",
    " Ans: converting data type to another type. For eg : str to int\n",
    "\n",
    "Q9. Can we take more than one input from the user using single input() function? If yes, how? If no, why?\n",
    " \n",
    " Ans: Yes we can take multiple inputs from user using single input() using unpacking and .split() method of string class(data type). which will give result in form of list and we unpack it using multiple catching variables like a,b,c.\n",
    "     Eg: a,b,c = [int(x) for x in input(\"enter 3 no/: \").split()]\n",
    "Q10. What are keywords?\n",
    " \n",
    " Ans: keywords are reserved words in python having specific purpose which cannot be used to define variable names. Eg: list, tuple, or, and, False, True etc.\n",
    "\n",
    "\n",
    "        "
   ]
  },
  {
   "cell_type": "code",
   "execution_count": 18,
   "metadata": {},
   "outputs": [
    {
     "name": "stdout",
     "output_type": "stream",
     "text": [
      "[0, 1, 4]\n"
     ]
    }
   ],
   "source": [
    "'''Q11. Can we use keywords as a variable? Support your answer with reason.'''\n",
    "\n",
    "'''Ans: No we cannot use keyword as a variable name. It can create a conflict when calling a variable in same scope as its reserved. '''\n",
    "def list(a):\n",
    "    return [x**2 for x in a]\n",
    "c = 0,1,2\n",
    "print(list(c))"
   ]
  },
  {
   "attachments": {},
   "cell_type": "markdown",
   "metadata": {},
   "source": [
    "\n",
    "\n",
    "Q12. What is indentation? What's the use of indentaion in Python?\n",
    "\n",
    "Ans: Indention is the space we give to create code blocks \n",
    "\n",
    "Q13. How can we throw some output in Python?\n",
    "\n",
    "Ans: simplest is print() which gives string format output \n",
    "\n",
    "Q14. What are operators in Python?\n",
    "\n",
    "Ans: operators are symbols which tell program how to perform certian action, computaion or comparion between and on the operands(values).\n",
    "\n",
    "Q15. What is difference between / and // operators?\n",
    "\n",
    "Ans: \"/\" is division operator (gives float)\n",
    " \"//\" is floor division operator( gives int until both int type else float)\n",
    "\n"
   ]
  },
  {
   "attachments": {},
   "cell_type": "markdown",
   "metadata": {},
   "source": [
    "Q16. Write a code that gives following as an output.\n",
    "```\n",
    "iNeuroniNeuroniNeuroniNeuron\n",
    "```"
   ]
  },
  {
   "cell_type": "code",
   "execution_count": 19,
   "metadata": {},
   "outputs": [
    {
     "name": "stdout",
     "output_type": "stream",
     "text": [
      "iNeuroniNeuroniNeuroniNeuron\n"
     ]
    }
   ],
   "source": [
    "print('iNeuron' * 4)"
   ]
  },
  {
   "cell_type": "code",
   "execution_count": 20,
   "metadata": {},
   "outputs": [
    {
     "name": "stdout",
     "output_type": "stream",
     "text": [
      "Number is odd!\n"
     ]
    }
   ],
   "source": [
    "'''Q17. Write a code to take a number as an input from the user and check if the number is odd or even.'''\n",
    "\n",
    "a = int(input(\"Enter a number:\"))\n",
    "if a % 2 == 0:\n",
    "    print(\"Number is even!\")\n",
    "else:\n",
    "    print(\"Number is odd!\")"
   ]
  },
  {
   "attachments": {},
   "cell_type": "markdown",
   "metadata": {},
   "source": [
    "Q18. What are boolean operator?\n",
    "\n",
    "Ans: \"and\", \"or\" and \"not\" are boolean logical operators which give boolean outputs(True, False) when used on boolean expression (gives boolean values). Eg: True or False -> True, not True -> False\n",
    "\n",
    "Q19. What will the output of the following?\n",
    "\n",
    "Ans: \n",
    "1 or 0 \n",
    "\n",
    "Output : True\n",
    "\n",
    "0 and 0\n",
    "\n",
    "Output : False\n",
    "\n",
    "True and False and True\n",
    "\n",
    "Output : False\n",
    "\n",
    "1 or 0 or 0\n",
    "\n",
    "Output : True\n",
    "\n",
    "\n",
    "Q20. What are conditional statements in Python?\n",
    "\n",
    "Ans: conditional statements are statements which help us to make decisions based on certain satisfaction of a condition in our program and give it a direction in which we want our output. very useful to depict real life scenarios and alternatives.\n",
    "\n",
    "Q21. What is use of 'if', 'elif' and 'else' keywords?\n",
    "\n",
    "Ans: 'if' is used to check if or not the condition is satisfied? \n",
    "     'elif' to check other condition when 'if' is not satisfied.\n",
    "     'else' when all 'if' and 'elif' condition are not satisfied then only 'else' gets executed and tells  what the program should do or how should it behave.\n",
    "\n",
    "Note: 1) When 'if' satisfied 'elif' and 'else' wont be executed.\n",
    "      2) When 'elif' satisfied 'if' and 'else' wont be executed.\n",
    "      3) When multiple 'elif', whichever 'elif' get satisfied, program ends there.\n",
    "      4) When multiple 'if' statements, then all must be satisfied then only the program(statement) gets terminated."
   ]
  },
  {
   "cell_type": "code",
   "execution_count": 25,
   "metadata": {},
   "outputs": [
    {
     "name": "stdout",
     "output_type": "stream",
     "text": [
      "I can vote\n"
     ]
    }
   ],
   "source": [
    "'''Q22. Write a code to take the age of person as an input and if age >= 18 display \"I can vote\". If age is < 18 display \"I can't vote\".'''\n",
    "\n",
    "age = int(input(\"Enter my age: \"))\n",
    "if age >= 18:\n",
    "    print('I can vote')\n",
    "elif age < 18:\n",
    "    print(\"I can't vote\")"
   ]
  },
  {
   "cell_type": "code",
   "execution_count": 26,
   "metadata": {},
   "outputs": [
    {
     "name": "stdout",
     "output_type": "stream",
     "text": [
      "sum of even numbers:  392\n"
     ]
    }
   ],
   "source": [
    "'''Q23. Write a code that displays the sum of all the even numbers from the given list.'''\n",
    "\n",
    "\n",
    "numbers = [12, 75, 150, 180, 145, 525, 50]\n",
    "\n",
    "sum = 0\n",
    "for i in numbers:\n",
    "    if i % 2 == 0:\n",
    "        sum = sum + i\n",
    "print('sum of even numbers: ', sum)"
   ]
  },
  {
   "cell_type": "code",
   "execution_count": 27,
   "metadata": {},
   "outputs": [
    {
     "name": "stdout",
     "output_type": "stream",
     "text": [
      "Greatest no. :  50\n"
     ]
    }
   ],
   "source": [
    "'''Q24. Write a code to take 3 numbers as an input from the user and display the greatest no as output.'''\n",
    " \n",
    "a, b, c = int(input('Enter 1st no. : ')), int(input('Enter 2nd no. : ')), int(input('Enter 3rd no. : '))\n",
    "if a > b and a > c:\n",
    "    print('Greatest no. : ', a)\n",
    "elif b > a and b > c:\n",
    "    print('Greatest no. : ', b)\n",
    "else:\n",
    "    print('Greatest no. : ', c)"
   ]
  },
  {
   "cell_type": "code",
   "execution_count": 28,
   "metadata": {},
   "outputs": [
    {
     "name": "stdout",
     "output_type": "stream",
     "text": [
      "75\n",
      "150\n",
      "145\n"
     ]
    }
   ],
   "source": [
    "'''Q25. Write a program to display only those numbers from a list that satisfy the following conditions\n",
    "\n",
    "- The number must be divisible by five\n",
    "\n",
    "- If the number is greater than 150, then skip it and move to the next number\n",
    "\n",
    "- If the number is greater than 500, then stop the loop\n",
    "'''\n",
    "\n",
    "numbers = [12, 75, 150, 180, 145, 525, 50]\n",
    "\n",
    "for i in numbers:\n",
    "    if i % 5 ==0:\n",
    "        if i > 150 and i <= 500: \n",
    "            continue\n",
    "        elif i > 500:\n",
    "            break\n",
    "        else:\n",
    "            print(i)"
   ]
  }
 ],
 "metadata": {
  "kernelspec": {
   "display_name": "Python 3",
   "language": "python",
   "name": "python3"
  },
  "language_info": {
   "codemirror_mode": {
    "name": "ipython",
    "version": 3
   },
   "file_extension": ".py",
   "mimetype": "text/x-python",
   "name": "python",
   "nbconvert_exporter": "python",
   "pygments_lexer": "ipython3",
   "version": "3.11.1"
  },
  "orig_nbformat": 4,
  "vscode": {
   "interpreter": {
    "hash": "b49566faa173569e49f6d3f036faab1d0d9d97bd05523bcdb6ec2381671af07a"
   }
  }
 },
 "nbformat": 4,
 "nbformat_minor": 2
}
